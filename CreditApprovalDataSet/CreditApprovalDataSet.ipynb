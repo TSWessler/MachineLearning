{
 "cells": [
  {
   "cell_type": "code",
   "execution_count": 1,
   "metadata": {},
   "outputs": [],
   "source": [
    "import numpy as np\n",
    "import pandas as pd\n",
    "import matplotlib.pyplot as plt\n",
    "from sklearn.model_selection import train_test_split\n",
    "from sklearn.neighbors import KNeighborsClassifier\n",
    "from sklearn.metrics import accuracy_score\n",
    "from sklearn.metrics import confusion_matrix\n",
    "from sklearn.metrics import classification_report\n",
    "from sklearn.tree import DecisionTreeClassifier\n",
    "from sklearn.tree import export_graphviz\n",
    "from sklearn.svm import LinearSVC\n",
    "from sklearn.svm import SVC\n",
    "from sklearn.linear_model import LogisticRegression\n",
    "from sklearn.metrics import jaccard_score\n",
    "from sklearn.metrics import f1_score\n",
    "from sklearn.metrics import log_loss\n",
    "from sklearn.preprocessing import StandardScaler\n",
    "import seaborn as sns\n",
    "from sklearn.model_selection import train_test_split\n",
    "from sklearn.neighbors import KNeighborsClassifier\n",
    "from sklearn import metrics\n",
    "import sys\n",
    "import sklearn.tree as tree\n",
    "import pylab as pl\n",
    "import scipy.optimize as opt\n",
    "from sklearn import svm\n",
    "from sklearn.metrics import classification_report, confusion_matrix\n",
    "import itertools\n",
    "from sklearn.metrics import log_loss"
   ]
  },
  {
   "cell_type": "code",
   "execution_count": 2,
   "metadata": {},
   "outputs": [],
   "source": [
    "#read in data set--note that no header is included in this set\n",
    "df = pd.read_csv('https://archive.ics.uci.edu/ml/machine-learning-databases/credit-screening/crx.data',sep=',',header=None)"
   ]
  },
  {
   "cell_type": "code",
   "execution_count": 3,
   "metadata": {},
   "outputs": [
    {
     "data": {
      "text/plain": [
       "(690, 16)"
      ]
     },
     "execution_count": 3,
     "metadata": {},
     "output_type": "execute_result"
    }
   ],
   "source": [
    "#output size of raw data for reference\n",
    "df.shape"
   ]
  },
  {
   "cell_type": "code",
   "execution_count": 4,
   "metadata": {},
   "outputs": [
    {
     "data": {
      "text/html": [
       "<div>\n",
       "<style scoped>\n",
       "    .dataframe tbody tr th:only-of-type {\n",
       "        vertical-align: middle;\n",
       "    }\n",
       "\n",
       "    .dataframe tbody tr th {\n",
       "        vertical-align: top;\n",
       "    }\n",
       "\n",
       "    .dataframe thead th {\n",
       "        text-align: right;\n",
       "    }\n",
       "</style>\n",
       "<table border=\"1\" class=\"dataframe\">\n",
       "  <thead>\n",
       "    <tr style=\"text-align: right;\">\n",
       "      <th></th>\n",
       "      <th>0</th>\n",
       "      <th>1</th>\n",
       "      <th>2</th>\n",
       "      <th>3</th>\n",
       "      <th>4</th>\n",
       "      <th>5</th>\n",
       "      <th>6</th>\n",
       "      <th>7</th>\n",
       "      <th>8</th>\n",
       "      <th>9</th>\n",
       "      <th>10</th>\n",
       "      <th>11</th>\n",
       "      <th>12</th>\n",
       "      <th>13</th>\n",
       "      <th>14</th>\n",
       "      <th>15</th>\n",
       "    </tr>\n",
       "  </thead>\n",
       "  <tbody>\n",
       "  </tbody>\n",
       "</table>\n",
       "</div>"
      ],
      "text/plain": [
       "Empty DataFrame\n",
       "Columns: [0, 1, 2, 3, 4, 5, 6, 7, 8, 9, 10, 11, 12, 13, 14, 15]\n",
       "Index: []"
      ]
     },
     "execution_count": 4,
     "metadata": {},
     "output_type": "execute_result"
    }
   ],
   "source": [
    "#see if there are any rows with NaN entries\n",
    "df[df.isna().any(axis=1)]"
   ]
  },
  {
   "cell_type": "code",
   "execution_count": 5,
   "metadata": {},
   "outputs": [
    {
     "data": {
      "text/html": [
       "<div>\n",
       "<style scoped>\n",
       "    .dataframe tbody tr th:only-of-type {\n",
       "        vertical-align: middle;\n",
       "    }\n",
       "\n",
       "    .dataframe tbody tr th {\n",
       "        vertical-align: top;\n",
       "    }\n",
       "\n",
       "    .dataframe thead th {\n",
       "        text-align: right;\n",
       "    }\n",
       "</style>\n",
       "<table border=\"1\" class=\"dataframe\">\n",
       "  <thead>\n",
       "    <tr style=\"text-align: right;\">\n",
       "      <th></th>\n",
       "      <th>0</th>\n",
       "      <th>1</th>\n",
       "      <th>2</th>\n",
       "      <th>3</th>\n",
       "      <th>4</th>\n",
       "      <th>5</th>\n",
       "      <th>6</th>\n",
       "      <th>7</th>\n",
       "      <th>8</th>\n",
       "      <th>9</th>\n",
       "      <th>10</th>\n",
       "      <th>11</th>\n",
       "      <th>12</th>\n",
       "      <th>13</th>\n",
       "      <th>14</th>\n",
       "      <th>15</th>\n",
       "    </tr>\n",
       "  </thead>\n",
       "  <tbody>\n",
       "  </tbody>\n",
       "</table>\n",
       "</div>"
      ],
      "text/plain": [
       "Empty DataFrame\n",
       "Columns: [0, 1, 2, 3, 4, 5, 6, 7, 8, 9, 10, 11, 12, 13, 14, 15]\n",
       "Index: []"
      ]
     },
     "execution_count": 5,
     "metadata": {},
     "output_type": "execute_result"
    }
   ],
   "source": [
    "#see if there are any rows with null entries\n",
    "df[df.isnull().any(axis=1)]"
   ]
  },
  {
   "cell_type": "code",
   "execution_count": 6,
   "metadata": {},
   "outputs": [
    {
     "data": {
      "text/html": [
       "<div>\n",
       "<style scoped>\n",
       "    .dataframe tbody tr th:only-of-type {\n",
       "        vertical-align: middle;\n",
       "    }\n",
       "\n",
       "    .dataframe tbody tr th {\n",
       "        vertical-align: top;\n",
       "    }\n",
       "\n",
       "    .dataframe thead th {\n",
       "        text-align: right;\n",
       "    }\n",
       "</style>\n",
       "<table border=\"1\" class=\"dataframe\">\n",
       "  <thead>\n",
       "    <tr style=\"text-align: right;\">\n",
       "      <th></th>\n",
       "      <th>0</th>\n",
       "      <th>1</th>\n",
       "      <th>2</th>\n",
       "      <th>3</th>\n",
       "      <th>4</th>\n",
       "      <th>5</th>\n",
       "      <th>6</th>\n",
       "      <th>7</th>\n",
       "      <th>8</th>\n",
       "      <th>9</th>\n",
       "      <th>10</th>\n",
       "      <th>11</th>\n",
       "      <th>12</th>\n",
       "      <th>13</th>\n",
       "      <th>14</th>\n",
       "      <th>15</th>\n",
       "    </tr>\n",
       "  </thead>\n",
       "  <tbody>\n",
       "    <tr>\n",
       "      <th>0</th>\n",
       "      <td>b</td>\n",
       "      <td>30.83</td>\n",
       "      <td>0.000</td>\n",
       "      <td>u</td>\n",
       "      <td>g</td>\n",
       "      <td>w</td>\n",
       "      <td>v</td>\n",
       "      <td>1.25</td>\n",
       "      <td>t</td>\n",
       "      <td>t</td>\n",
       "      <td>1</td>\n",
       "      <td>f</td>\n",
       "      <td>g</td>\n",
       "      <td>00202</td>\n",
       "      <td>0</td>\n",
       "      <td>+</td>\n",
       "    </tr>\n",
       "    <tr>\n",
       "      <th>1</th>\n",
       "      <td>a</td>\n",
       "      <td>58.67</td>\n",
       "      <td>4.460</td>\n",
       "      <td>u</td>\n",
       "      <td>g</td>\n",
       "      <td>q</td>\n",
       "      <td>h</td>\n",
       "      <td>3.04</td>\n",
       "      <td>t</td>\n",
       "      <td>t</td>\n",
       "      <td>6</td>\n",
       "      <td>f</td>\n",
       "      <td>g</td>\n",
       "      <td>00043</td>\n",
       "      <td>560</td>\n",
       "      <td>+</td>\n",
       "    </tr>\n",
       "    <tr>\n",
       "      <th>2</th>\n",
       "      <td>a</td>\n",
       "      <td>24.50</td>\n",
       "      <td>0.500</td>\n",
       "      <td>u</td>\n",
       "      <td>g</td>\n",
       "      <td>q</td>\n",
       "      <td>h</td>\n",
       "      <td>1.50</td>\n",
       "      <td>t</td>\n",
       "      <td>f</td>\n",
       "      <td>0</td>\n",
       "      <td>f</td>\n",
       "      <td>g</td>\n",
       "      <td>00280</td>\n",
       "      <td>824</td>\n",
       "      <td>+</td>\n",
       "    </tr>\n",
       "    <tr>\n",
       "      <th>3</th>\n",
       "      <td>b</td>\n",
       "      <td>27.83</td>\n",
       "      <td>1.540</td>\n",
       "      <td>u</td>\n",
       "      <td>g</td>\n",
       "      <td>w</td>\n",
       "      <td>v</td>\n",
       "      <td>3.75</td>\n",
       "      <td>t</td>\n",
       "      <td>t</td>\n",
       "      <td>5</td>\n",
       "      <td>t</td>\n",
       "      <td>g</td>\n",
       "      <td>00100</td>\n",
       "      <td>3</td>\n",
       "      <td>+</td>\n",
       "    </tr>\n",
       "    <tr>\n",
       "      <th>4</th>\n",
       "      <td>b</td>\n",
       "      <td>20.17</td>\n",
       "      <td>5.625</td>\n",
       "      <td>u</td>\n",
       "      <td>g</td>\n",
       "      <td>w</td>\n",
       "      <td>v</td>\n",
       "      <td>1.71</td>\n",
       "      <td>t</td>\n",
       "      <td>f</td>\n",
       "      <td>0</td>\n",
       "      <td>f</td>\n",
       "      <td>s</td>\n",
       "      <td>00120</td>\n",
       "      <td>0</td>\n",
       "      <td>+</td>\n",
       "    </tr>\n",
       "  </tbody>\n",
       "</table>\n",
       "</div>"
      ],
      "text/plain": [
       "  0      1      2  3  4  5  6     7  8  9   10 11 12     13   14 15\n",
       "0  b  30.83  0.000  u  g  w  v  1.25  t  t   1  f  g  00202    0  +\n",
       "1  a  58.67  4.460  u  g  q  h  3.04  t  t   6  f  g  00043  560  +\n",
       "2  a  24.50  0.500  u  g  q  h  1.50  t  f   0  f  g  00280  824  +\n",
       "3  b  27.83  1.540  u  g  w  v  3.75  t  t   5  t  g  00100    3  +\n",
       "4  b  20.17  5.625  u  g  w  v  1.71  t  f   0  f  s  00120    0  +"
      ]
     },
     "execution_count": 6,
     "metadata": {},
     "output_type": "execute_result"
    }
   ],
   "source": [
    "#get a look at raw data (beginning)\n",
    "df.head()"
   ]
  },
  {
   "cell_type": "code",
   "execution_count": 7,
   "metadata": {},
   "outputs": [],
   "source": [
    "#get a look at raw data (ending)"
   ]
  },
  {
   "cell_type": "code",
   "execution_count": 8,
   "metadata": {},
   "outputs": [],
   "source": [
    "#name the columns by the attributes given by the data info page (https://archive.ics.uci.edu/ml/datasets/Credit+Approval)\n",
    "nameAttributes=['A1','A2','A3','A4','A5','A6','A7','A8','A9','A10','A11','A12','A13','A14','A15','A16']"
   ]
  },
  {
   "cell_type": "code",
   "execution_count": 9,
   "metadata": {},
   "outputs": [],
   "source": [
    "df.columns=nameAttributes"
   ]
  },
  {
   "cell_type": "code",
   "execution_count": 10,
   "metadata": {},
   "outputs": [
    {
     "data": {
      "text/plain": [
       "(690, 16)"
      ]
     },
     "execution_count": 10,
     "metadata": {},
     "output_type": "execute_result"
    }
   ],
   "source": [
    "#confirm dataframe still same size\n",
    "df.shape"
   ]
  },
  {
   "cell_type": "code",
   "execution_count": 11,
   "metadata": {},
   "outputs": [
    {
     "data": {
      "text/html": [
       "<div>\n",
       "<style scoped>\n",
       "    .dataframe tbody tr th:only-of-type {\n",
       "        vertical-align: middle;\n",
       "    }\n",
       "\n",
       "    .dataframe tbody tr th {\n",
       "        vertical-align: top;\n",
       "    }\n",
       "\n",
       "    .dataframe thead th {\n",
       "        text-align: right;\n",
       "    }\n",
       "</style>\n",
       "<table border=\"1\" class=\"dataframe\">\n",
       "  <thead>\n",
       "    <tr style=\"text-align: right;\">\n",
       "      <th></th>\n",
       "      <th>A1</th>\n",
       "      <th>A2</th>\n",
       "      <th>A3</th>\n",
       "      <th>A4</th>\n",
       "      <th>A5</th>\n",
       "      <th>A6</th>\n",
       "      <th>A7</th>\n",
       "      <th>A8</th>\n",
       "      <th>A9</th>\n",
       "      <th>A10</th>\n",
       "      <th>A11</th>\n",
       "      <th>A12</th>\n",
       "      <th>A13</th>\n",
       "      <th>A14</th>\n",
       "      <th>A15</th>\n",
       "      <th>A16</th>\n",
       "    </tr>\n",
       "  </thead>\n",
       "  <tbody>\n",
       "    <tr>\n",
       "      <th>0</th>\n",
       "      <td>b</td>\n",
       "      <td>30.83</td>\n",
       "      <td>0.000</td>\n",
       "      <td>u</td>\n",
       "      <td>g</td>\n",
       "      <td>w</td>\n",
       "      <td>v</td>\n",
       "      <td>1.25</td>\n",
       "      <td>t</td>\n",
       "      <td>t</td>\n",
       "      <td>1</td>\n",
       "      <td>f</td>\n",
       "      <td>g</td>\n",
       "      <td>00202</td>\n",
       "      <td>0</td>\n",
       "      <td>+</td>\n",
       "    </tr>\n",
       "    <tr>\n",
       "      <th>1</th>\n",
       "      <td>a</td>\n",
       "      <td>58.67</td>\n",
       "      <td>4.460</td>\n",
       "      <td>u</td>\n",
       "      <td>g</td>\n",
       "      <td>q</td>\n",
       "      <td>h</td>\n",
       "      <td>3.04</td>\n",
       "      <td>t</td>\n",
       "      <td>t</td>\n",
       "      <td>6</td>\n",
       "      <td>f</td>\n",
       "      <td>g</td>\n",
       "      <td>00043</td>\n",
       "      <td>560</td>\n",
       "      <td>+</td>\n",
       "    </tr>\n",
       "    <tr>\n",
       "      <th>2</th>\n",
       "      <td>a</td>\n",
       "      <td>24.50</td>\n",
       "      <td>0.500</td>\n",
       "      <td>u</td>\n",
       "      <td>g</td>\n",
       "      <td>q</td>\n",
       "      <td>h</td>\n",
       "      <td>1.50</td>\n",
       "      <td>t</td>\n",
       "      <td>f</td>\n",
       "      <td>0</td>\n",
       "      <td>f</td>\n",
       "      <td>g</td>\n",
       "      <td>00280</td>\n",
       "      <td>824</td>\n",
       "      <td>+</td>\n",
       "    </tr>\n",
       "    <tr>\n",
       "      <th>3</th>\n",
       "      <td>b</td>\n",
       "      <td>27.83</td>\n",
       "      <td>1.540</td>\n",
       "      <td>u</td>\n",
       "      <td>g</td>\n",
       "      <td>w</td>\n",
       "      <td>v</td>\n",
       "      <td>3.75</td>\n",
       "      <td>t</td>\n",
       "      <td>t</td>\n",
       "      <td>5</td>\n",
       "      <td>t</td>\n",
       "      <td>g</td>\n",
       "      <td>00100</td>\n",
       "      <td>3</td>\n",
       "      <td>+</td>\n",
       "    </tr>\n",
       "    <tr>\n",
       "      <th>4</th>\n",
       "      <td>b</td>\n",
       "      <td>20.17</td>\n",
       "      <td>5.625</td>\n",
       "      <td>u</td>\n",
       "      <td>g</td>\n",
       "      <td>w</td>\n",
       "      <td>v</td>\n",
       "      <td>1.71</td>\n",
       "      <td>t</td>\n",
       "      <td>f</td>\n",
       "      <td>0</td>\n",
       "      <td>f</td>\n",
       "      <td>s</td>\n",
       "      <td>00120</td>\n",
       "      <td>0</td>\n",
       "      <td>+</td>\n",
       "    </tr>\n",
       "  </tbody>\n",
       "</table>\n",
       "</div>"
      ],
      "text/plain": [
       "  A1     A2     A3 A4 A5 A6 A7    A8 A9 A10  A11 A12 A13    A14  A15 A16\n",
       "0  b  30.83  0.000  u  g  w  v  1.25  t   t    1   f   g  00202    0   +\n",
       "1  a  58.67  4.460  u  g  q  h  3.04  t   t    6   f   g  00043  560   +\n",
       "2  a  24.50  0.500  u  g  q  h  1.50  t   f    0   f   g  00280  824   +\n",
       "3  b  27.83  1.540  u  g  w  v  3.75  t   t    5   t   g  00100    3   +\n",
       "4  b  20.17  5.625  u  g  w  v  1.71  t   f    0   f   s  00120    0   +"
      ]
     },
     "execution_count": 11,
     "metadata": {},
     "output_type": "execute_result"
    }
   ],
   "source": [
    "#take a look at dataframe with attribute labels\n",
    "df.head()"
   ]
  },
  {
   "cell_type": "code",
   "execution_count": 12,
   "metadata": {},
   "outputs": [
    {
     "data": {
      "text/html": [
       "<div>\n",
       "<style scoped>\n",
       "    .dataframe tbody tr th:only-of-type {\n",
       "        vertical-align: middle;\n",
       "    }\n",
       "\n",
       "    .dataframe tbody tr th {\n",
       "        vertical-align: top;\n",
       "    }\n",
       "\n",
       "    .dataframe thead th {\n",
       "        text-align: right;\n",
       "    }\n",
       "</style>\n",
       "<table border=\"1\" class=\"dataframe\">\n",
       "  <thead>\n",
       "    <tr style=\"text-align: right;\">\n",
       "      <th></th>\n",
       "      <th>A1</th>\n",
       "      <th>A2</th>\n",
       "      <th>A3</th>\n",
       "      <th>A4</th>\n",
       "      <th>A5</th>\n",
       "      <th>A6</th>\n",
       "      <th>A7</th>\n",
       "      <th>A8</th>\n",
       "      <th>A9</th>\n",
       "      <th>A10</th>\n",
       "      <th>A11</th>\n",
       "      <th>A12</th>\n",
       "      <th>A13</th>\n",
       "      <th>A14</th>\n",
       "      <th>A15</th>\n",
       "      <th>A16</th>\n",
       "    </tr>\n",
       "  </thead>\n",
       "  <tbody>\n",
       "    <tr>\n",
       "      <th>685</th>\n",
       "      <td>b</td>\n",
       "      <td>21.08</td>\n",
       "      <td>10.085</td>\n",
       "      <td>y</td>\n",
       "      <td>p</td>\n",
       "      <td>e</td>\n",
       "      <td>h</td>\n",
       "      <td>1.25</td>\n",
       "      <td>f</td>\n",
       "      <td>f</td>\n",
       "      <td>0</td>\n",
       "      <td>f</td>\n",
       "      <td>g</td>\n",
       "      <td>00260</td>\n",
       "      <td>0</td>\n",
       "      <td>-</td>\n",
       "    </tr>\n",
       "    <tr>\n",
       "      <th>686</th>\n",
       "      <td>a</td>\n",
       "      <td>22.67</td>\n",
       "      <td>0.750</td>\n",
       "      <td>u</td>\n",
       "      <td>g</td>\n",
       "      <td>c</td>\n",
       "      <td>v</td>\n",
       "      <td>2.00</td>\n",
       "      <td>f</td>\n",
       "      <td>t</td>\n",
       "      <td>2</td>\n",
       "      <td>t</td>\n",
       "      <td>g</td>\n",
       "      <td>00200</td>\n",
       "      <td>394</td>\n",
       "      <td>-</td>\n",
       "    </tr>\n",
       "    <tr>\n",
       "      <th>687</th>\n",
       "      <td>a</td>\n",
       "      <td>25.25</td>\n",
       "      <td>13.500</td>\n",
       "      <td>y</td>\n",
       "      <td>p</td>\n",
       "      <td>ff</td>\n",
       "      <td>ff</td>\n",
       "      <td>2.00</td>\n",
       "      <td>f</td>\n",
       "      <td>t</td>\n",
       "      <td>1</td>\n",
       "      <td>t</td>\n",
       "      <td>g</td>\n",
       "      <td>00200</td>\n",
       "      <td>1</td>\n",
       "      <td>-</td>\n",
       "    </tr>\n",
       "    <tr>\n",
       "      <th>688</th>\n",
       "      <td>b</td>\n",
       "      <td>17.92</td>\n",
       "      <td>0.205</td>\n",
       "      <td>u</td>\n",
       "      <td>g</td>\n",
       "      <td>aa</td>\n",
       "      <td>v</td>\n",
       "      <td>0.04</td>\n",
       "      <td>f</td>\n",
       "      <td>f</td>\n",
       "      <td>0</td>\n",
       "      <td>f</td>\n",
       "      <td>g</td>\n",
       "      <td>00280</td>\n",
       "      <td>750</td>\n",
       "      <td>-</td>\n",
       "    </tr>\n",
       "    <tr>\n",
       "      <th>689</th>\n",
       "      <td>b</td>\n",
       "      <td>35.00</td>\n",
       "      <td>3.375</td>\n",
       "      <td>u</td>\n",
       "      <td>g</td>\n",
       "      <td>c</td>\n",
       "      <td>h</td>\n",
       "      <td>8.29</td>\n",
       "      <td>f</td>\n",
       "      <td>f</td>\n",
       "      <td>0</td>\n",
       "      <td>t</td>\n",
       "      <td>g</td>\n",
       "      <td>00000</td>\n",
       "      <td>0</td>\n",
       "      <td>-</td>\n",
       "    </tr>\n",
       "  </tbody>\n",
       "</table>\n",
       "</div>"
      ],
      "text/plain": [
       "    A1     A2      A3 A4 A5  A6  A7    A8 A9 A10  A11 A12 A13    A14  A15 A16\n",
       "685  b  21.08  10.085  y  p   e   h  1.25  f   f    0   f   g  00260    0   -\n",
       "686  a  22.67   0.750  u  g   c   v  2.00  f   t    2   t   g  00200  394   -\n",
       "687  a  25.25  13.500  y  p  ff  ff  2.00  f   t    1   t   g  00200    1   -\n",
       "688  b  17.92   0.205  u  g  aa   v  0.04  f   f    0   f   g  00280  750   -\n",
       "689  b  35.00   3.375  u  g   c   h  8.29  f   f    0   t   g  00000    0   -"
      ]
     },
     "execution_count": 12,
     "metadata": {},
     "output_type": "execute_result"
    }
   ],
   "source": [
    "df.tail()"
   ]
  },
  {
   "cell_type": "code",
   "execution_count": 13,
   "metadata": {},
   "outputs": [
    {
     "data": {
      "text/plain": [
       "b    468\n",
       "a    210\n",
       "?     12\n",
       "Name: A1, dtype: int64"
      ]
     },
     "execution_count": 13,
     "metadata": {},
     "output_type": "execute_result"
    }
   ],
   "source": [
    "#take a look at values of first attribute to see if it matches data info page\n",
    "df['A1'].value_counts()"
   ]
  },
  {
   "cell_type": "code",
   "execution_count": 14,
   "metadata": {},
   "outputs": [],
   "source": [
    "#it is clear that data is incomplete, even though incomplete values weren't labeled with NaN or null\n",
    "#for convenience, let's just remove all samples that aren't complete by replacing '?' with NaN and then removing all rows with NaN\n",
    "df=df.replace(to_replace='?',value=np.nan)"
   ]
  },
  {
   "cell_type": "code",
   "execution_count": 15,
   "metadata": {},
   "outputs": [
    {
     "data": {
      "text/plain": [
       "(690, 16)"
      ]
     },
     "execution_count": 15,
     "metadata": {},
     "output_type": "execute_result"
    }
   ],
   "source": [
    "#for reminder list size of dataframe before removing rows\n",
    "df.shape"
   ]
  },
  {
   "cell_type": "code",
   "execution_count": 16,
   "metadata": {},
   "outputs": [],
   "source": [
    "#remove all samples with incomplete data\n",
    "df=df.dropna()"
   ]
  },
  {
   "cell_type": "code",
   "execution_count": 17,
   "metadata": {},
   "outputs": [
    {
     "data": {
      "text/plain": [
       "(653, 16)"
      ]
     },
     "execution_count": 17,
     "metadata": {},
     "output_type": "execute_result"
    }
   ],
   "source": [
    "#display size of dataframe with only complete samples\n",
    "df.shape"
   ]
  },
  {
   "cell_type": "code",
   "execution_count": 18,
   "metadata": {},
   "outputs": [],
   "source": [
    "#go through all attributes to see if there are any that have 'lost' an option\n",
    "#(e.g., was binary and now all samples have identical values, or would need one-hot coding but are now binary)"
   ]
  },
  {
   "cell_type": "code",
   "execution_count": 19,
   "metadata": {},
   "outputs": [
    {
     "data": {
      "text/plain": [
       "b    450\n",
       "a    203\n",
       "Name: A1, dtype: int64"
      ]
     },
     "execution_count": 19,
     "metadata": {},
     "output_type": "execute_result"
    }
   ],
   "source": [
    "df['A1'].value_counts()"
   ]
  },
  {
   "cell_type": "code",
   "execution_count": 20,
   "metadata": {},
   "outputs": [
    {
     "data": {
      "text/plain": [
       "22.67    9\n",
       "23.58    6\n",
       "25.00    6\n",
       "19.17    6\n",
       "18.83    6\n",
       "        ..\n",
       "47.25    1\n",
       "35.58    1\n",
       "36.25    1\n",
       "44.00    1\n",
       "38.42    1\n",
       "Name: A2, Length: 340, dtype: int64"
      ]
     },
     "execution_count": 20,
     "metadata": {},
     "output_type": "execute_result"
    }
   ],
   "source": [
    "df['A2'].value_counts()"
   ]
  },
  {
   "cell_type": "code",
   "execution_count": 21,
   "metadata": {},
   "outputs": [
    {
     "data": {
      "text/plain": [
       "2.500     19\n",
       "1.500     19\n",
       "3.000     18\n",
       "0.750     16\n",
       "1.250     16\n",
       "          ..\n",
       "12.125     1\n",
       "13.915     1\n",
       "22.000     1\n",
       "12.835     1\n",
       "10.915     1\n",
       "Name: A3, Length: 213, dtype: int64"
      ]
     },
     "execution_count": 21,
     "metadata": {},
     "output_type": "execute_result"
    }
   ],
   "source": [
    "df['A3'].value_counts()"
   ]
  },
  {
   "cell_type": "code",
   "execution_count": 22,
   "metadata": {},
   "outputs": [
    {
     "data": {
      "text/plain": [
       "u    499\n",
       "y    152\n",
       "l      2\n",
       "Name: A4, dtype: int64"
      ]
     },
     "execution_count": 22,
     "metadata": {},
     "output_type": "execute_result"
    }
   ],
   "source": [
    "df['A4'].value_counts()"
   ]
  },
  {
   "cell_type": "code",
   "execution_count": 23,
   "metadata": {},
   "outputs": [
    {
     "data": {
      "text/plain": [
       "g     499\n",
       "p     152\n",
       "gg      2\n",
       "Name: A5, dtype: int64"
      ]
     },
     "execution_count": 23,
     "metadata": {},
     "output_type": "execute_result"
    }
   ],
   "source": [
    "df['A5'].value_counts()"
   ]
  },
  {
   "cell_type": "code",
   "execution_count": 24,
   "metadata": {},
   "outputs": [
    {
     "data": {
      "text/plain": [
       "c     133\n",
       "q      75\n",
       "w      63\n",
       "i      55\n",
       "aa     52\n",
       "ff     50\n",
       "k      48\n",
       "cc     40\n",
       "m      38\n",
       "x      36\n",
       "d      26\n",
       "e      24\n",
       "j      10\n",
       "r       3\n",
       "Name: A6, dtype: int64"
      ]
     },
     "execution_count": 24,
     "metadata": {},
     "output_type": "execute_result"
    }
   ],
   "source": [
    "df['A6'].value_counts()"
   ]
  },
  {
   "cell_type": "code",
   "execution_count": 25,
   "metadata": {},
   "outputs": [
    {
     "data": {
      "text/plain": [
       "v     381\n",
       "h     137\n",
       "ff     54\n",
       "bb     53\n",
       "j       8\n",
       "z       8\n",
       "dd      6\n",
       "n       4\n",
       "o       2\n",
       "Name: A7, dtype: int64"
      ]
     },
     "execution_count": 25,
     "metadata": {},
     "output_type": "execute_result"
    }
   ],
   "source": [
    "df['A7'].value_counts()"
   ]
  },
  {
   "cell_type": "code",
   "execution_count": 26,
   "metadata": {},
   "outputs": [
    {
     "data": {
      "text/plain": [
       "0.000    60\n",
       "0.040    32\n",
       "0.250    32\n",
       "1.000    30\n",
       "0.125    29\n",
       "         ..\n",
       "1.960     1\n",
       "3.960     1\n",
       "2.040     1\n",
       "1.040     1\n",
       "5.375     1\n",
       "Name: A8, Length: 131, dtype: int64"
      ]
     },
     "execution_count": 26,
     "metadata": {},
     "output_type": "execute_result"
    }
   ],
   "source": [
    "df['A8'].value_counts()"
   ]
  },
  {
   "cell_type": "code",
   "execution_count": 27,
   "metadata": {},
   "outputs": [
    {
     "data": {
      "text/plain": [
       "t    349\n",
       "f    304\n",
       "Name: A9, dtype: int64"
      ]
     },
     "execution_count": 27,
     "metadata": {},
     "output_type": "execute_result"
    }
   ],
   "source": [
    "df['A9'].value_counts()"
   ]
  },
  {
   "cell_type": "code",
   "execution_count": 28,
   "metadata": {},
   "outputs": [
    {
     "data": {
      "text/plain": [
       "f    366\n",
       "t    287\n",
       "Name: A10, dtype: int64"
      ]
     },
     "execution_count": 28,
     "metadata": {},
     "output_type": "execute_result"
    }
   ],
   "source": [
    "df['A10'].value_counts()"
   ]
  },
  {
   "cell_type": "code",
   "execution_count": 29,
   "metadata": {},
   "outputs": [
    {
     "data": {
      "text/plain": [
       "0     366\n",
       "1      69\n",
       "2      42\n",
       "3      27\n",
       "6      22\n",
       "11     19\n",
       "5      17\n",
       "7      16\n",
       "4      15\n",
       "8      10\n",
       "9      10\n",
       "14      8\n",
       "12      8\n",
       "10      8\n",
       "15      4\n",
       "16      3\n",
       "17      2\n",
       "20      2\n",
       "40      1\n",
       "13      1\n",
       "19      1\n",
       "23      1\n",
       "67      1\n",
       "Name: A11, dtype: int64"
      ]
     },
     "execution_count": 29,
     "metadata": {},
     "output_type": "execute_result"
    }
   ],
   "source": [
    "df['A11'].value_counts()"
   ]
  },
  {
   "cell_type": "code",
   "execution_count": 30,
   "metadata": {},
   "outputs": [
    {
     "data": {
      "text/plain": [
       "f    351\n",
       "t    302\n",
       "Name: A12, dtype: int64"
      ]
     },
     "execution_count": 30,
     "metadata": {},
     "output_type": "execute_result"
    }
   ],
   "source": [
    "df['A12'].value_counts()"
   ]
  },
  {
   "cell_type": "code",
   "execution_count": 31,
   "metadata": {},
   "outputs": [
    {
     "data": {
      "text/plain": [
       "g    598\n",
       "s     53\n",
       "p      2\n",
       "Name: A13, dtype: int64"
      ]
     },
     "execution_count": 31,
     "metadata": {},
     "output_type": "execute_result"
    }
   ],
   "source": [
    "df['A13'].value_counts()"
   ]
  },
  {
   "cell_type": "code",
   "execution_count": 32,
   "metadata": {},
   "outputs": [
    {
     "data": {
      "text/plain": [
       "00000    128\n",
       "00120     35\n",
       "00200     33\n",
       "00160     33\n",
       "00100     30\n",
       "        ... \n",
       "00186      1\n",
       "00224      1\n",
       "00487      1\n",
       "00030      1\n",
       "00167      1\n",
       "Name: A14, Length: 164, dtype: int64"
      ]
     },
     "execution_count": 32,
     "metadata": {},
     "output_type": "execute_result"
    }
   ],
   "source": [
    "df['A14'].value_counts()"
   ]
  },
  {
   "cell_type": "code",
   "execution_count": 33,
   "metadata": {},
   "outputs": [
    {
     "data": {
      "text/plain": [
       "0       275\n",
       "1        27\n",
       "1000     10\n",
       "500      10\n",
       "2         9\n",
       "       ... \n",
       "6590      1\n",
       "444       1\n",
       "1465      1\n",
       "5552      1\n",
       "283       1\n",
       "Name: A15, Length: 229, dtype: int64"
      ]
     },
     "execution_count": 33,
     "metadata": {},
     "output_type": "execute_result"
    }
   ],
   "source": [
    "df['A15'].value_counts()"
   ]
  },
  {
   "cell_type": "code",
   "execution_count": 34,
   "metadata": {},
   "outputs": [
    {
     "data": {
      "text/plain": [
       "-    357\n",
       "+    296\n",
       "Name: A16, dtype: int64"
      ]
     },
     "execution_count": 34,
     "metadata": {},
     "output_type": "execute_result"
    }
   ],
   "source": [
    "df['A16'].value_counts()"
   ]
  },
  {
   "cell_type": "code",
   "execution_count": 35,
   "metadata": {},
   "outputs": [],
   "source": [
    "#turn binary attribute terms into numerical values\n",
    "df['A1'].replace(to_replace=['a','b'], value=[1,0],inplace=True)\n",
    "df['A9'].replace(to_replace=['t','f'], value=[1,0],inplace=True)\n",
    "df['A10'].replace(to_replace=['t','f'], value=[1,0],inplace=True)\n",
    "df['A12'].replace(to_replace=['t','f'], value=[1,0],inplace=True)"
   ]
  },
  {
   "cell_type": "code",
   "execution_count": 36,
   "metadata": {},
   "outputs": [],
   "source": [
    "#do one hot encoding for remaining attributes\n",
    "tempDummy=pd.get_dummies(df.A4,prefix='A4')\n",
    "df = pd.concat([df, tempDummy], axis=1).drop('A4', axis=1)\n",
    "\n",
    "tempDummy=pd.get_dummies(df.A5,prefix='A5')\n",
    "df = pd.concat([df, tempDummy], axis=1).drop('A5', axis=1)\n",
    "\n",
    "tempDummy=pd.get_dummies(df.A6,prefix='A6')\n",
    "df = pd.concat([df, tempDummy], axis=1).drop('A6', axis=1)\n",
    "\n",
    "tempDummy=pd.get_dummies(df.A7,prefix='A7')\n",
    "df = pd.concat([df, tempDummy], axis=1).drop('A7', axis=1)\n",
    "\n",
    "tempDummy=pd.get_dummies(df.A13,prefix='A13')\n",
    "df = pd.concat([df, tempDummy], axis=1).drop('A13', axis=1)\n"
   ]
  },
  {
   "cell_type": "code",
   "execution_count": 37,
   "metadata": {},
   "outputs": [
    {
     "data": {
      "text/plain": [
       "(653, 43)"
      ]
     },
     "execution_count": 37,
     "metadata": {},
     "output_type": "execute_result"
    }
   ],
   "source": [
    "#see size after one hot encoding--can count from value counts section to confirm size\n",
    "df.shape"
   ]
  },
  {
   "cell_type": "code",
   "execution_count": 38,
   "metadata": {},
   "outputs": [
    {
     "name": "stdout",
     "output_type": "stream",
     "text": [
      "     A1     A2      A3     A8  A9  A10  A11  A12    A14  A15  ... A7_ff  A7_h  \\\n",
      "675   1  41.58   1.040  0.665   0    0    0    0  00240  237  ...     0     0   \n",
      "676   1  30.58  10.665  0.085   0    1   12    1  00129    3  ...     0     1   \n",
      "677   0  19.42   7.250  0.040   0    1    1    0  00100    1  ...     0     0   \n",
      "678   1  17.92  10.210  0.000   0    0    0    0  00000   50  ...     1     0   \n",
      "679   1  20.08   1.250  0.000   0    0    0    0  00000    0  ...     0     0   \n",
      "680   0  19.50   0.290  0.290   0    0    0    0  00280  364  ...     0     0   \n",
      "681   0  27.83   1.000  3.000   0    0    0    0  00176  537  ...     0     1   \n",
      "682   0  17.08   3.290  0.335   0    0    0    1  00140    2  ...     0     0   \n",
      "683   0  36.42   0.750  0.585   0    0    0    0  00240    3  ...     0     0   \n",
      "684   0  40.58   3.290  3.500   0    0    0    1  00400    0  ...     0     0   \n",
      "685   0  21.08  10.085  1.250   0    0    0    0  00260    0  ...     0     1   \n",
      "686   1  22.67   0.750  2.000   0    1    2    1  00200  394  ...     0     0   \n",
      "687   1  25.25  13.500  2.000   0    1    1    1  00200    1  ...     1     0   \n",
      "688   0  17.92   0.205  0.040   0    0    0    0  00280  750  ...     0     0   \n",
      "689   0  35.00   3.375  8.290   0    0    0    1  00000    0  ...     0     1   \n",
      "\n",
      "     A7_j  A7_n  A7_o  A7_v  A7_z  A13_g  A13_p  A13_s  \n",
      "675     0     0     0     1     0      1      0      0  \n",
      "676     0     0     0     0     0      1      0      0  \n",
      "677     0     0     0     1     0      1      0      0  \n",
      "678     0     0     0     0     0      1      0      0  \n",
      "679     0     0     0     1     0      1      0      0  \n",
      "680     0     0     0     1     0      1      0      0  \n",
      "681     0     0     0     0     0      1      0      0  \n",
      "682     0     0     0     1     0      1      0      0  \n",
      "683     0     0     0     1     0      1      0      0  \n",
      "684     0     0     0     1     0      0      0      1  \n",
      "685     0     0     0     0     0      1      0      0  \n",
      "686     0     0     0     1     0      1      0      0  \n",
      "687     0     0     0     0     0      1      0      0  \n",
      "688     0     0     0     1     0      1      0      0  \n",
      "689     0     0     0     0     0      1      0      0  \n",
      "\n",
      "[15 rows x 43 columns]\n"
     ]
    }
   ],
   "source": [
    "#look at portion of dataframe\n",
    "print(df.tail(15))"
   ]
  },
  {
   "cell_type": "code",
   "execution_count": null,
   "metadata": {},
   "outputs": [],
   "source": []
  },
  {
   "cell_type": "code",
   "execution_count": 39,
   "metadata": {},
   "outputs": [],
   "source": [
    "#separate features and label"
   ]
  },
  {
   "cell_type": "code",
   "execution_count": 40,
   "metadata": {},
   "outputs": [],
   "source": [
    "#define feature set by removing label (A16--'approve' or 'not approve')\n",
    "X=df.drop('A16',axis=1)"
   ]
  },
  {
   "cell_type": "code",
   "execution_count": 41,
   "metadata": {},
   "outputs": [
    {
     "data": {
      "text/plain": [
       "(653, 42)"
      ]
     },
     "execution_count": 41,
     "metadata": {},
     "output_type": "execute_result"
    }
   ],
   "source": [
    "#confirm feature set size\n",
    "X.shape"
   ]
  },
  {
   "cell_type": "code",
   "execution_count": 42,
   "metadata": {},
   "outputs": [],
   "source": [
    "#define label\n",
    "y=df['A16'].values"
   ]
  },
  {
   "cell_type": "code",
   "execution_count": 43,
   "metadata": {},
   "outputs": [
    {
     "name": "stdout",
     "output_type": "stream",
     "text": [
      "-:  357 \n",
      "+:  296\n"
     ]
    }
   ],
   "source": [
    "#confirm label is correct by comparing to 'A16' counts above\n",
    "print('-: ',np.count_nonzero(y=='-'),'\\n+: ',np.count_nonzero(y=='+'))"
   ]
  },
  {
   "cell_type": "code",
   "execution_count": 44,
   "metadata": {},
   "outputs": [],
   "source": [
    "from sklearn.preprocessing import StandardScaler"
   ]
  },
  {
   "cell_type": "code",
   "execution_count": 45,
   "metadata": {},
   "outputs": [],
   "source": [
    "#normalize data\n",
    "X= StandardScaler().fit(X).transform(X)"
   ]
  },
  {
   "cell_type": "code",
   "execution_count": null,
   "metadata": {},
   "outputs": [],
   "source": []
  },
  {
   "cell_type": "code",
   "execution_count": null,
   "metadata": {},
   "outputs": [],
   "source": []
  },
  {
   "cell_type": "code",
   "execution_count": 46,
   "metadata": {},
   "outputs": [],
   "source": [
    "#separate data into train and test sets"
   ]
  },
  {
   "cell_type": "code",
   "execution_count": 47,
   "metadata": {},
   "outputs": [
    {
     "name": "stdout",
     "output_type": "stream",
     "text": [
      "Train set: (522, 42) (522,)\n",
      "Test set: (131, 42) (131,)\n"
     ]
    }
   ],
   "source": [
    "X_train, X_test, y_train, y_test = train_test_split( X, y, test_size=0.2, random_state=0)\n",
    "print ('Train set:', X_train.shape,  y_train.shape)\n",
    "print ('Test set:', X_test.shape,  y_test.shape)"
   ]
  },
  {
   "cell_type": "code",
   "execution_count": null,
   "metadata": {},
   "outputs": [],
   "source": []
  },
  {
   "cell_type": "code",
   "execution_count": null,
   "metadata": {},
   "outputs": [],
   "source": []
  },
  {
   "cell_type": "code",
   "execution_count": null,
   "metadata": {},
   "outputs": [],
   "source": []
  },
  {
   "cell_type": "code",
   "execution_count": null,
   "metadata": {},
   "outputs": [],
   "source": []
  },
  {
   "cell_type": "code",
   "execution_count": null,
   "metadata": {},
   "outputs": [],
   "source": []
  },
  {
   "cell_type": "code",
   "execution_count": 48,
   "metadata": {},
   "outputs": [],
   "source": [
    "#K nearest neighbors"
   ]
  },
  {
   "cell_type": "code",
   "execution_count": 49,
   "metadata": {},
   "outputs": [
    {
     "name": "stdout",
     "output_type": "stream",
     "text": [
      "K = 1\n",
      "Train set Accuracy:  1.0\n",
      "Test set Accuracy:  0.7938931297709924\n",
      " \n",
      "K = 2\n",
      "Train set Accuracy:  0.8888888888888888\n",
      "Test set Accuracy:  0.7786259541984732\n",
      " \n",
      "K = 3\n",
      "Train set Accuracy:  0.8831417624521073\n",
      "Test set Accuracy:  0.8015267175572519\n",
      " \n",
      "K = 4\n",
      "Train set Accuracy:  0.8390804597701149\n",
      "Test set Accuracy:  0.8015267175572519\n",
      " \n",
      "K = 5\n",
      "Train set Accuracy:  0.8333333333333334\n",
      "Test set Accuracy:  0.8091603053435115\n",
      " \n",
      "K = 6\n",
      "Train set Accuracy:  0.8352490421455939\n",
      "Test set Accuracy:  0.7633587786259542\n",
      " \n",
      "K = 7\n",
      "Train set Accuracy:  0.8333333333333334\n",
      "Test set Accuracy:  0.7862595419847328\n",
      " \n",
      "K = 8\n",
      "Train set Accuracy:  0.8295019157088123\n",
      "Test set Accuracy:  0.7709923664122137\n",
      " \n",
      "K = 9\n",
      "Train set Accuracy:  0.8256704980842912\n",
      "Test set Accuracy:  0.8015267175572519\n",
      " \n",
      "K = 10\n",
      "Train set Accuracy:  0.8275862068965517\n",
      "Test set Accuracy:  0.8091603053435115\n",
      " \n",
      "K = 11\n",
      "Train set Accuracy:  0.8180076628352491\n",
      "Test set Accuracy:  0.8015267175572519\n",
      " \n",
      "K = 12\n",
      "Train set Accuracy:  0.8275862068965517\n",
      "Test set Accuracy:  0.7938931297709924\n",
      " \n",
      "K = 13\n",
      "Train set Accuracy:  0.8065134099616859\n",
      "Test set Accuracy:  0.8091603053435115\n",
      " \n",
      "K = 14\n",
      "Train set Accuracy:  0.8256704980842912\n",
      "Test set Accuracy:  0.7786259541984732\n",
      " \n",
      "K = 15\n",
      "Train set Accuracy:  0.814176245210728\n",
      "Test set Accuracy:  0.8015267175572519\n",
      " \n",
      "K = 16\n",
      "Train set Accuracy:  0.8314176245210728\n",
      "Test set Accuracy:  0.816793893129771\n",
      " \n",
      "K = 17\n",
      "Train set Accuracy:  0.8065134099616859\n",
      "Test set Accuracy:  0.816793893129771\n",
      " \n",
      "K = 18\n",
      "Train set Accuracy:  0.8218390804597702\n",
      "Test set Accuracy:  0.8091603053435115\n",
      " \n",
      "K = 19\n",
      "Train set Accuracy:  0.8065134099616859\n",
      "Test set Accuracy:  0.8015267175572519\n",
      " \n",
      "K = 20\n",
      "Train set Accuracy:  0.8122605363984674\n",
      "Test set Accuracy:  0.816793893129771\n",
      " \n",
      "K = 21\n",
      "Train set Accuracy:  0.8103448275862069\n",
      "Test set Accuracy:  0.8244274809160306\n",
      " \n",
      "K = 22\n",
      "Train set Accuracy:  0.8275862068965517\n",
      "Test set Accuracy:  0.8396946564885496\n",
      " \n",
      "K = 23\n",
      "Train set Accuracy:  0.8199233716475096\n",
      "Test set Accuracy:  0.8320610687022901\n",
      " \n",
      "K = 24\n",
      "Train set Accuracy:  0.8160919540229885\n",
      "Test set Accuracy:  0.8396946564885496\n",
      " \n",
      "K = 25\n",
      "Train set Accuracy:  0.8065134099616859\n",
      "Test set Accuracy:  0.8015267175572519\n",
      " \n",
      "K = 26\n",
      "Train set Accuracy:  0.8199233716475096\n",
      "Test set Accuracy:  0.8091603053435115\n",
      " \n",
      "K = 27\n",
      "Train set Accuracy:  0.8103448275862069\n",
      "Test set Accuracy:  0.816793893129771\n",
      " \n",
      "K = 28\n",
      "Train set Accuracy:  0.8237547892720306\n",
      "Test set Accuracy:  0.8091603053435115\n",
      " \n",
      "K = 29\n",
      "Train set Accuracy:  0.814176245210728\n",
      "Test set Accuracy:  0.816793893129771\n",
      " \n",
      "K = 30\n",
      "Train set Accuracy:  0.8160919540229885\n",
      "Test set Accuracy:  0.816793893129771\n",
      " \n",
      "K = 31\n",
      "Train set Accuracy:  0.8103448275862069\n",
      "Test set Accuracy:  0.8320610687022901\n",
      " \n",
      "K = 32\n",
      "Train set Accuracy:  0.8199233716475096\n",
      "Test set Accuracy:  0.816793893129771\n",
      " \n",
      "K = 33\n",
      "Train set Accuracy:  0.8065134099616859\n",
      "Test set Accuracy:  0.8244274809160306\n",
      " \n",
      "K = 34\n",
      "Train set Accuracy:  0.8103448275862069\n",
      "Test set Accuracy:  0.8244274809160306\n",
      " \n",
      "K = 35\n",
      "Train set Accuracy:  0.8045977011494253\n",
      "Test set Accuracy:  0.8091603053435115\n",
      " \n",
      "K = 36\n",
      "Train set Accuracy:  0.8103448275862069\n",
      "Test set Accuracy:  0.8091603053435115\n",
      " \n",
      "K = 37\n",
      "Train set Accuracy:  0.8103448275862069\n",
      "Test set Accuracy:  0.8244274809160306\n",
      " \n",
      "K = 38\n",
      "Train set Accuracy:  0.8160919540229885\n",
      "Test set Accuracy:  0.8244274809160306\n",
      " \n",
      "K = 39\n",
      "Train set Accuracy:  0.7988505747126436\n",
      "Test set Accuracy:  0.8320610687022901\n",
      " \n",
      "K = 40\n",
      "Train set Accuracy:  0.8084291187739464\n",
      "Test set Accuracy:  0.8320610687022901\n",
      " \n",
      "K = 41\n",
      "Train set Accuracy:  0.8007662835249042\n",
      "Test set Accuracy:  0.8320610687022901\n",
      " \n",
      "K = 42\n",
      "Train set Accuracy:  0.8103448275862069\n",
      "Test set Accuracy:  0.8473282442748091\n",
      " \n",
      "K = 43\n",
      "Train set Accuracy:  0.8026819923371648\n",
      "Test set Accuracy:  0.8396946564885496\n",
      " \n",
      "K = 44\n",
      "Train set Accuracy:  0.814176245210728\n",
      "Test set Accuracy:  0.8473282442748091\n",
      " \n",
      "K = 45\n",
      "Train set Accuracy:  0.8103448275862069\n",
      "Test set Accuracy:  0.8473282442748091\n",
      " \n",
      "K = 46\n",
      "Train set Accuracy:  0.8103448275862069\n",
      "Test set Accuracy:  0.8473282442748091\n",
      " \n",
      "K = 47\n",
      "Train set Accuracy:  0.8084291187739464\n",
      "Test set Accuracy:  0.8549618320610687\n",
      " \n",
      "K = 48\n",
      "Train set Accuracy:  0.8199233716475096\n",
      "Test set Accuracy:  0.8549618320610687\n",
      " \n",
      "K = 49\n",
      "Train set Accuracy:  0.8084291187739464\n",
      "Test set Accuracy:  0.8473282442748091\n",
      " \n",
      "K = 50\n",
      "Train set Accuracy:  0.8122605363984674\n",
      "Test set Accuracy:  0.8549618320610687\n",
      " \n",
      "K = 51\n",
      "Train set Accuracy:  0.8084291187739464\n",
      "Test set Accuracy:  0.8625954198473282\n",
      " \n",
      "K = 52\n",
      "Train set Accuracy:  0.8218390804597702\n",
      "Test set Accuracy:  0.8625954198473282\n",
      " \n",
      "K = 53\n",
      "Train set Accuracy:  0.814176245210728\n",
      "Test set Accuracy:  0.8625954198473282\n",
      " \n",
      "K = 54\n",
      "Train set Accuracy:  0.8256704980842912\n",
      "Test set Accuracy:  0.8625954198473282\n",
      " \n",
      "K = 55\n",
      "Train set Accuracy:  0.8199233716475096\n",
      "Test set Accuracy:  0.8702290076335878\n",
      " \n",
      "K = 56\n",
      "Train set Accuracy:  0.8275862068965517\n",
      "Test set Accuracy:  0.8625954198473282\n",
      " \n",
      "K = 57\n",
      "Train set Accuracy:  0.8218390804597702\n",
      "Test set Accuracy:  0.8549618320610687\n",
      " \n",
      "K = 58\n",
      "Train set Accuracy:  0.8275862068965517\n",
      "Test set Accuracy:  0.8625954198473282\n",
      " \n",
      "K = 59\n",
      "Train set Accuracy:  0.8199233716475096\n",
      "Test set Accuracy:  0.8549618320610687\n",
      " \n",
      "K = 60\n",
      "Train set Accuracy:  0.8256704980842912\n",
      "Test set Accuracy:  0.8549618320610687\n",
      " \n",
      "K = 61\n",
      "Train set Accuracy:  0.814176245210728\n",
      "Test set Accuracy:  0.8625954198473282\n",
      " \n",
      "K = 62\n",
      "Train set Accuracy:  0.8199233716475096\n",
      "Test set Accuracy:  0.8549618320610687\n",
      " \n",
      "K = 63\n",
      "Train set Accuracy:  0.8122605363984674\n",
      "Test set Accuracy:  0.8549618320610687\n",
      " \n",
      "K = 64\n",
      "Train set Accuracy:  0.8180076628352491\n",
      "Test set Accuracy:  0.8625954198473282\n",
      " \n",
      "K = 65\n",
      "Train set Accuracy:  0.8026819923371648\n",
      "Test set Accuracy:  0.8473282442748091\n",
      " \n",
      "K = 66\n",
      "Train set Accuracy:  0.8180076628352491\n",
      "Test set Accuracy:  0.8549618320610687\n",
      " \n",
      "K = 67\n",
      "Train set Accuracy:  0.8103448275862069\n",
      "Test set Accuracy:  0.8473282442748091\n",
      " \n",
      "K = 68\n",
      "Train set Accuracy:  0.8237547892720306\n",
      "Test set Accuracy:  0.8396946564885496\n",
      " \n",
      "K = 69\n",
      "Train set Accuracy:  0.814176245210728\n",
      "Test set Accuracy:  0.8473282442748091\n",
      " \n",
      "K = 70\n",
      "Train set Accuracy:  0.8160919540229885\n",
      "Test set Accuracy:  0.8396946564885496\n",
      " \n",
      "K = 71\n",
      "Train set Accuracy:  0.8122605363984674\n",
      "Test set Accuracy:  0.8473282442748091\n",
      " \n",
      "K = 72\n",
      "Train set Accuracy:  0.8180076628352491\n",
      "Test set Accuracy:  0.8549618320610687\n",
      " \n",
      "K = 73\n",
      "Train set Accuracy:  0.8160919540229885\n",
      "Test set Accuracy:  0.8473282442748091\n",
      " \n",
      "K = 74\n",
      "Train set Accuracy:  0.8275862068965517\n",
      "Test set Accuracy:  0.8549618320610687\n",
      " \n",
      "K = 75\n",
      "Train set Accuracy:  0.8237547892720306\n",
      "Test set Accuracy:  0.8473282442748091\n",
      " \n",
      "K = 76\n",
      "Train set Accuracy:  0.8295019157088123\n",
      "Test set Accuracy:  0.8320610687022901\n",
      " \n",
      "K = 77\n",
      "Train set Accuracy:  0.8218390804597702\n",
      "Test set Accuracy:  0.8320610687022901\n",
      " \n",
      "K = 78\n",
      "Train set Accuracy:  0.8295019157088123\n",
      "Test set Accuracy:  0.8320610687022901\n",
      " \n",
      "K = 79\n",
      "Train set Accuracy:  0.8256704980842912\n",
      "Test set Accuracy:  0.8320610687022901\n",
      " \n",
      "K = 80\n",
      "Train set Accuracy:  0.8256704980842912\n",
      "Test set Accuracy:  0.8396946564885496\n",
      " \n",
      "K = 81\n",
      "Train set Accuracy:  0.8237547892720306\n",
      "Test set Accuracy:  0.8320610687022901\n",
      " \n",
      "K = 82\n",
      "Train set Accuracy:  0.8237547892720306\n",
      "Test set Accuracy:  0.8320610687022901\n",
      " \n",
      "K = 83\n",
      "Train set Accuracy:  0.8275862068965517\n",
      "Test set Accuracy:  0.8473282442748091\n",
      " \n",
      "K = 84\n",
      "Train set Accuracy:  0.8295019157088123\n",
      "Test set Accuracy:  0.8396946564885496\n",
      " \n",
      "K = 85\n",
      "Train set Accuracy:  0.8199233716475096\n",
      "Test set Accuracy:  0.8396946564885496\n",
      " \n",
      "K = 86\n",
      "Train set Accuracy:  0.8237547892720306\n",
      "Test set Accuracy:  0.8549618320610687\n",
      " \n",
      "K = 87\n",
      "Train set Accuracy:  0.8256704980842912\n",
      "Test set Accuracy:  0.8396946564885496\n",
      " \n",
      "K = 88\n",
      "Train set Accuracy:  0.8295019157088123\n",
      "Test set Accuracy:  0.8549618320610687\n",
      " \n",
      "K = 89\n",
      "Train set Accuracy:  0.8256704980842912\n",
      "Test set Accuracy:  0.8625954198473282\n",
      " \n",
      "K = 90\n",
      "Train set Accuracy:  0.8237547892720306\n",
      "Test set Accuracy:  0.8625954198473282\n",
      " \n",
      "K = 91\n",
      "Train set Accuracy:  0.8237547892720306\n",
      "Test set Accuracy:  0.8625954198473282\n",
      " \n",
      "K = 92\n",
      "Train set Accuracy:  0.8218390804597702\n",
      "Test set Accuracy:  0.8625954198473282\n",
      " \n",
      "K = 93\n",
      "Train set Accuracy:  0.8218390804597702\n",
      "Test set Accuracy:  0.8549618320610687\n",
      " \n",
      "K = 94\n",
      "Train set Accuracy:  0.8256704980842912\n",
      "Test set Accuracy:  0.8549618320610687\n",
      " \n",
      "K = 95\n",
      "Train set Accuracy:  0.8237547892720306\n",
      "Test set Accuracy:  0.8473282442748091\n",
      " \n",
      "K = 96\n",
      "Train set Accuracy:  0.8295019157088123\n",
      "Test set Accuracy:  0.8473282442748091\n",
      " \n",
      "K = 97\n",
      "Train set Accuracy:  0.8199233716475096\n",
      "Test set Accuracy:  0.8473282442748091\n",
      " \n",
      "K = 98\n",
      "Train set Accuracy:  0.8199233716475096\n",
      "Test set Accuracy:  0.8473282442748091\n",
      " \n",
      "K = 99\n",
      "Train set Accuracy:  0.8180076628352491\n",
      "Test set Accuracy:  0.8396946564885496\n",
      " \n",
      "The best accuracy was with 0.8702290076335878 with k= 55\n"
     ]
    }
   ],
   "source": [
    "#see which is best number of closest points\n",
    "Ks = 100\n",
    "mean_acc = np.zeros((Ks-1))\n",
    "std_acc = np.zeros((Ks-1))\n",
    "\n",
    "for n in range(1,Ks):\n",
    "    \n",
    "    #Train Model and Predict  \n",
    "    neigh = KNeighborsClassifier(n_neighbors = n).fit(X_train,y_train)\n",
    "    yhat=neigh.predict(X_test)\n",
    "    mean_acc[n-1] = metrics.accuracy_score(y_test, yhat)\n",
    "\n",
    "    \n",
    "    std_acc[n-1]=np.std(yhat==y_test)/np.sqrt(yhat.shape[0])\n",
    "    \n",
    "    print('K =',n)\n",
    "    print('Train set Accuracy: ', metrics.accuracy_score(y_train, neigh.predict(X_train)))\n",
    "    print('Test set Accuracy: ', metrics.accuracy_score(y_test, yhat))\n",
    "    print(' ')\n",
    "\n",
    "print( 'The best accuracy was with', mean_acc.max(), 'with k=', mean_acc.argmax()+1) "
   ]
  },
  {
   "cell_type": "code",
   "execution_count": 50,
   "metadata": {},
   "outputs": [
    {
     "data": {
      "image/png": "[encoded data removed]",
      "text/plain": [
       "<Figure size 432x288 with 1 Axes>"
      ]
     },
     "metadata": {
      "needs_background": "light"
     },
     "output_type": "display_data"
    }
   ],
   "source": [
    "plt.plot(range(1,Ks),mean_acc,'g')\n",
    "plt.fill_between(range(1,Ks),mean_acc - 1 * std_acc,mean_acc + 1 * std_acc, alpha=0.10)\n",
    "plt.fill_between(range(1,Ks),mean_acc - 3 * std_acc,mean_acc + 3 * std_acc, alpha=0.10,color='green')\n",
    "plt.legend(('Accuracy ', '+/- 1xstd','+/- 3xstd'))\n",
    "plt.ylabel('Accuracy ')\n",
    "plt.xlabel('Number of Neighbors (K)')\n",
    "plt.tight_layout()\n",
    "plt.show()"
   ]
  },
  {
   "cell_type": "code",
   "execution_count": 51,
   "metadata": {},
   "outputs": [],
   "source": [
    "#best seems to be k=55; inflection point in accuracy appears around there as well"
   ]
  },
  {
   "cell_type": "code",
   "execution_count": 52,
   "metadata": {},
   "outputs": [
    {
     "name": "stdout",
     "output_type": "stream",
     "text": [
      "Accuracy of K-NN classifier on training set: 0.8199\n",
      "Accuracy of K-NN classifier on test set: 0.8702\n",
      "[[43 17]\n",
      " [ 0 71]]\n",
      "              precision    recall  f1-score   support\n",
      "\n",
      "           +       1.00      0.72      0.83        60\n",
      "           -       0.81      1.00      0.89        71\n",
      "\n",
      "    accuracy                           0.87       131\n",
      "   macro avg       0.90      0.86      0.86       131\n",
      "weighted avg       0.90      0.87      0.87       131\n",
      "\n"
     ]
    }
   ],
   "source": [
    "#run model at optimum k-value\n",
    "knn = KNeighborsClassifier(n_neighbors = 55)\n",
    "knn.fit(X_train, y_train)\n",
    "print('Accuracy of K-NN classifier on training set: {:.4f}'\n",
    "     .format(knn.score(X_train, y_train)))\n",
    "print('Accuracy of K-NN classifier on test set: {:.4f}'\n",
    "     .format(knn.score(X_test, y_test)))\n",
    "\n",
    "pred = knn.predict(X_test)\n",
    "print(confusion_matrix(y_test, pred))\n",
    "print(classification_report(y_test, pred))"
   ]
  },
  {
   "cell_type": "code",
   "execution_count": 53,
   "metadata": {},
   "outputs": [
    {
     "name": "stdout",
     "output_type": "stream",
     "text": [
      "Avg F1-score: 0.8350\n",
      "Jaccard score: 0.6613\n"
     ]
    }
   ],
   "source": [
    "#some metrics of performance:\n",
    "print('Avg F1-score: %.4f' % f1_score(y_test, yhat, average='weighted'))\n",
    "print('Jaccard score: %.4f' % jaccard_score(y_test, yhat,pos_label='+'))"
   ]
  },
  {
   "cell_type": "code",
   "execution_count": null,
   "metadata": {},
   "outputs": [],
   "source": []
  },
  {
   "cell_type": "code",
   "execution_count": null,
   "metadata": {},
   "outputs": [],
   "source": []
  },
  {
   "cell_type": "code",
   "execution_count": null,
   "metadata": {},
   "outputs": [],
   "source": []
  },
  {
   "cell_type": "code",
   "execution_count": null,
   "metadata": {},
   "outputs": [],
   "source": []
  },
  {
   "cell_type": "code",
   "execution_count": 54,
   "metadata": {},
   "outputs": [],
   "source": [
    "#decision tree"
   ]
  },
  {
   "cell_type": "code",
   "execution_count": 55,
   "metadata": {},
   "outputs": [
    {
     "data": {
      "text/plain": [
       "DecisionTreeClassifier(ccp_alpha=0.0, class_weight=None, criterion='entropy',\n",
       "                       max_depth=4, max_features=None, max_leaf_nodes=None,\n",
       "                       min_impurity_decrease=0.0, min_impurity_split=None,\n",
       "                       min_samples_leaf=1, min_samples_split=2,\n",
       "                       min_weight_fraction_leaf=0.0, presort='deprecated',\n",
       "                       random_state=None, splitter='best')"
      ]
     },
     "execution_count": 55,
     "metadata": {},
     "output_type": "execute_result"
    }
   ],
   "source": [
    "decisionTree = DecisionTreeClassifier(criterion='entropy', max_depth = 4)\n",
    "decisionTree.fit(X_train,y_train)"
   ]
  },
  {
   "cell_type": "code",
   "execution_count": 56,
   "metadata": {},
   "outputs": [
    {
     "name": "stdout",
     "output_type": "stream",
     "text": [
      "DecisionTrees's Accuracy:  0.8931297709923665\n"
     ]
    }
   ],
   "source": [
    "predictionTree = decisionTree.predict(X_test)\n",
    "print(\"DecisionTrees's Accuracy: \", metrics.accuracy_score(y_test, predictionTree))"
   ]
  },
  {
   "cell_type": "code",
   "execution_count": 57,
   "metadata": {},
   "outputs": [
    {
     "data": {
      "image/png": "[encoded data removed]",
      "text/plain": [
       "<Figure size 432x288 with 1 Axes>"
      ]
     },
     "metadata": {
      "needs_background": "light"
     },
     "output_type": "display_data"
    }
   ],
   "source": [
    "tree.plot_tree(decisionTree)\n",
    "plt.show()"
   ]
  },
  {
   "cell_type": "code",
   "execution_count": 58,
   "metadata": {},
   "outputs": [
    {
     "name": "stdout",
     "output_type": "stream",
     "text": [
      "Avg F1-score: 0.8925\n",
      "Jaccard score: 0.6613\n"
     ]
    }
   ],
   "source": [
    "#some metrics of performance:\n",
    "print('Avg F1-score: %.4f' % f1_score(y_test, predictionTree, average='weighted'))\n",
    "print('Jaccard score: %.4f' % jaccard_score(y_test, yhat,pos_label='+'))"
   ]
  },
  {
   "cell_type": "code",
   "execution_count": null,
   "metadata": {},
   "outputs": [],
   "source": []
  },
  {
   "cell_type": "code",
   "execution_count": null,
   "metadata": {},
   "outputs": [],
   "source": []
  },
  {
   "cell_type": "code",
   "execution_count": null,
   "metadata": {},
   "outputs": [],
   "source": []
  },
  {
   "cell_type": "code",
   "execution_count": null,
   "metadata": {},
   "outputs": [],
   "source": []
  },
  {
   "cell_type": "code",
   "execution_count": null,
   "metadata": {},
   "outputs": [],
   "source": []
  },
  {
   "cell_type": "code",
   "execution_count": 59,
   "metadata": {},
   "outputs": [],
   "source": [
    "#support vector machine"
   ]
  },
  {
   "cell_type": "code",
   "execution_count": 60,
   "metadata": {},
   "outputs": [],
   "source": [
    "#plotting tool\n",
    "def plot_confusion_matrix(cm, classes,\n",
    "                          normalize=False,\n",
    "                          title='Confusion matrix',\n",
    "                          cmap=plt.cm.Blues):\n",
    "    '''\n",
    "    This function prints and plots the confusion matrix.\n",
    "    Normalization can be applied by setting `normalize=True`.\n",
    "    '''\n",
    "    if normalize:\n",
    "        cm = cm.astype('float') / cm.sum(axis=1)[:, np.newaxis]\n",
    "        print('Normalized confusion matrix')\n",
    "    else:\n",
    "        print('Confusion matrix, without normalization')\n",
    "\n",
    "    print(cm)\n",
    "\n",
    "    plt.imshow(cm, interpolation='nearest', cmap=cmap)\n",
    "    plt.title(title)\n",
    "    plt.colorbar()\n",
    "    tick_marks = np.arange(len(classes))\n",
    "    plt.xticks(tick_marks, classes, rotation=45)\n",
    "    plt.yticks(tick_marks, classes)\n",
    "\n",
    "    fmt = '.2f' if normalize else 'd'\n",
    "    thresh = cm.max() / 2.\n",
    "    for i, j in itertools.product(range(cm.shape[0]), range(cm.shape[1])):\n",
    "        plt.text(j, i, format(cm[i, j], fmt),\n",
    "                 horizontalalignment='center',\n",
    "                 color='white' if cm[i, j] > thresh else 'black')\n",
    "\n",
    "    plt.tight_layout()\n",
    "    plt.ylabel('True label')\n",
    "    plt.xlabel('Predicted label')"
   ]
  },
  {
   "cell_type": "code",
   "execution_count": null,
   "metadata": {},
   "outputs": [],
   "source": []
  },
  {
   "cell_type": "code",
   "execution_count": 61,
   "metadata": {},
   "outputs": [],
   "source": [
    "#linear fit\n",
    "clf = svm.SVC(kernel='linear')"
   ]
  },
  {
   "cell_type": "code",
   "execution_count": 62,
   "metadata": {},
   "outputs": [],
   "source": [
    "clf.fit(X_train, y_train)\n",
    "yhat = clf.predict(X_test)"
   ]
  },
  {
   "cell_type": "code",
   "execution_count": 63,
   "metadata": {},
   "outputs": [
    {
     "name": "stdout",
     "output_type": "stream",
     "text": [
      "              precision    recall  f1-score   support\n",
      "\n",
      "           +       0.83      0.90      0.86        60\n",
      "           -       0.91      0.85      0.88        71\n",
      "\n",
      "    accuracy                           0.87       131\n",
      "   macro avg       0.87      0.87      0.87       131\n",
      "weighted avg       0.87      0.87      0.87       131\n",
      "\n",
      "Confusion matrix, without normalization\n",
      "[[60 11]\n",
      " [ 6 54]]\n"
     ]
    },
    {
     "data": {
      "image/png": "[encoded data removed]",
      "text/plain": [
       "<Figure size 432x288 with 2 Axes>"
      ]
     },
     "metadata": {
      "needs_background": "light"
     },
     "output_type": "display_data"
    }
   ],
   "source": [
    "# Compute confusion matrix\n",
    "cnf_matrix = confusion_matrix(y_test, yhat, labels=['-','+'])\n",
    "np.set_printoptions(precision=2)\n",
    "\n",
    "print (classification_report(y_test, yhat))\n",
    "\n",
    "# Plot non-normalized confusion matrix\n",
    "plt.figure()\n",
    "plot_confusion_matrix(cnf_matrix, classes=['-','+'],normalize= False,  title='Confusion matrix')"
   ]
  },
  {
   "cell_type": "code",
   "execution_count": 64,
   "metadata": {},
   "outputs": [
    {
     "name": "stdout",
     "output_type": "stream",
     "text": [
      "Avg F1-score: 0.8705\n",
      "Jaccard score: 0.7606\n"
     ]
    }
   ],
   "source": [
    "#some metrics of performance:\n",
    "print('Avg F1-score: %.4f' % f1_score(y_test, yhat, average='weighted'))\n",
    "print('Jaccard score: %.4f' % jaccard_score(y_test, yhat,pos_label='+'))"
   ]
  },
  {
   "cell_type": "code",
   "execution_count": null,
   "metadata": {},
   "outputs": [],
   "source": []
  },
  {
   "cell_type": "code",
   "execution_count": 65,
   "metadata": {},
   "outputs": [],
   "source": [
    "#polynomial fit\n",
    "clf = svm.SVC(kernel='poly')"
   ]
  },
  {
   "cell_type": "code",
   "execution_count": 66,
   "metadata": {},
   "outputs": [],
   "source": [
    "clf.fit(X_train, y_train)\n",
    "yhat = clf.predict(X_test)"
   ]
  },
  {
   "cell_type": "code",
   "execution_count": 67,
   "metadata": {},
   "outputs": [
    {
     "name": "stdout",
     "output_type": "stream",
     "text": [
      "              precision    recall  f1-score   support\n",
      "\n",
      "           +       0.85      0.77      0.81        60\n",
      "           -       0.82      0.89      0.85        71\n",
      "\n",
      "    accuracy                           0.83       131\n",
      "   macro avg       0.84      0.83      0.83       131\n",
      "weighted avg       0.83      0.83      0.83       131\n",
      "\n",
      "Confusion matrix, without normalization\n",
      "[[63  8]\n",
      " [14 46]]\n"
     ]
    },
    {
     "data": {
      "image/png": "[encoded data removed]",
      "text/plain": [
       "<Figure size 432x288 with 2 Axes>"
      ]
     },
     "metadata": {
      "needs_background": "light"
     },
     "output_type": "display_data"
    }
   ],
   "source": [
    "# Compute confusion matrix\n",
    "cnf_matrix = confusion_matrix(y_test, yhat, labels=['-','+'])\n",
    "np.set_printoptions(precision=2)\n",
    "\n",
    "print (classification_report(y_test, yhat))\n",
    "\n",
    "# Plot non-normalized confusion matrix\n",
    "plt.figure()\n",
    "plot_confusion_matrix(cnf_matrix, classes=['-','+'],normalize= False,  title='Confusion matrix')"
   ]
  },
  {
   "cell_type": "code",
   "execution_count": 68,
   "metadata": {},
   "outputs": [
    {
     "name": "stdout",
     "output_type": "stream",
     "text": [
      "Avg F1-score: 0.8310\n",
      "Jaccard score: 0.6765\n"
     ]
    }
   ],
   "source": [
    "#some metrics of performance:\n",
    "print('Avg F1-score: %.4f' % f1_score(y_test, yhat, average='weighted'))\n",
    "print('Jaccard score: %.4f' % jaccard_score(y_test, yhat,pos_label='+'))"
   ]
  },
  {
   "cell_type": "code",
   "execution_count": null,
   "metadata": {},
   "outputs": [],
   "source": []
  },
  {
   "cell_type": "code",
   "execution_count": 69,
   "metadata": {},
   "outputs": [],
   "source": [
    "#radial basis function fit\n",
    "clf = svm.SVC(kernel='rbf')"
   ]
  },
  {
   "cell_type": "code",
   "execution_count": 70,
   "metadata": {},
   "outputs": [],
   "source": [
    "clf.fit(X_train, y_train)\n",
    "yhat = clf.predict(X_test)"
   ]
  },
  {
   "cell_type": "code",
   "execution_count": 71,
   "metadata": {},
   "outputs": [
    {
     "name": "stdout",
     "output_type": "stream",
     "text": [
      "              precision    recall  f1-score   support\n",
      "\n",
      "           +       0.83      0.83      0.83        60\n",
      "           -       0.86      0.86      0.86        71\n",
      "\n",
      "    accuracy                           0.85       131\n",
      "   macro avg       0.85      0.85      0.85       131\n",
      "weighted avg       0.85      0.85      0.85       131\n",
      "\n",
      "Confusion matrix, without normalization\n",
      "[[61 10]\n",
      " [10 50]]\n"
     ]
    },
    {
     "data": {
      "image/png": "[encoded data removed]",
      "text/plain": [
       "<Figure size 432x288 with 2 Axes>"
      ]
     },
     "metadata": {
      "needs_background": "light"
     },
     "output_type": "display_data"
    }
   ],
   "source": [
    "# Compute confusion matrix\n",
    "cnf_matrix = confusion_matrix(y_test, yhat, labels=['-','+'])\n",
    "np.set_printoptions(precision=2)\n",
    "\n",
    "print (classification_report(y_test, yhat))\n",
    "\n",
    "# Plot non-normalized confusion matrix\n",
    "plt.figure()\n",
    "plot_confusion_matrix(cnf_matrix, classes=['-','+'],normalize= False,  title='Confusion matrix')"
   ]
  },
  {
   "cell_type": "code",
   "execution_count": 72,
   "metadata": {},
   "outputs": [
    {
     "name": "stdout",
     "output_type": "stream",
     "text": [
      "Avg F1-score: 0.8473\n",
      "Jaccard score: 0.7143\n"
     ]
    }
   ],
   "source": [
    "#some metrics of performance:\n",
    "print('Avg F1-score: %.4f' % f1_score(y_test, yhat, average='weighted'))\n",
    "print('Jaccard score: %.4f' % jaccard_score(y_test, yhat,pos_label='+'))"
   ]
  },
  {
   "cell_type": "code",
   "execution_count": null,
   "metadata": {},
   "outputs": [],
   "source": []
  },
  {
   "cell_type": "code",
   "execution_count": 73,
   "metadata": {},
   "outputs": [],
   "source": [
    "#sigmoid fit\n",
    "clf = svm.SVC(kernel='sigmoid')"
   ]
  },
  {
   "cell_type": "code",
   "execution_count": 74,
   "metadata": {},
   "outputs": [],
   "source": [
    "clf.fit(X_train, y_train)\n",
    "yhat = clf.predict(X_test)"
   ]
  },
  {
   "cell_type": "code",
   "execution_count": 75,
   "metadata": {},
   "outputs": [
    {
     "name": "stdout",
     "output_type": "stream",
     "text": [
      "              precision    recall  f1-score   support\n",
      "\n",
      "           +       0.83      0.95      0.88        60\n",
      "           -       0.95      0.83      0.89        71\n",
      "\n",
      "    accuracy                           0.89       131\n",
      "   macro avg       0.89      0.89      0.89       131\n",
      "weighted avg       0.89      0.89      0.89       131\n",
      "\n",
      "Confusion matrix, without normalization\n",
      "[[59 12]\n",
      " [ 3 57]]\n"
     ]
    },
    {
     "data": {
      "image/png": "[encoded data removed]",
      "text/plain": [
       "<Figure size 432x288 with 2 Axes>"
      ]
     },
     "metadata": {
      "needs_background": "light"
     },
     "output_type": "display_data"
    }
   ],
   "source": [
    "# Compute confusion matrix\n",
    "cnf_matrix = confusion_matrix(y_test, yhat, labels=['-','+'])\n",
    "np.set_printoptions(precision=2)\n",
    "\n",
    "print (classification_report(y_test, yhat))\n",
    "\n",
    "# Plot non-normalized confusion matrix\n",
    "plt.figure()\n",
    "plot_confusion_matrix(cnf_matrix, classes=['-','+'],normalize= False,  title='Confusion matrix')"
   ]
  },
  {
   "cell_type": "code",
   "execution_count": 76,
   "metadata": {},
   "outputs": [
    {
     "name": "stdout",
     "output_type": "stream",
     "text": [
      "Avg F1-score: 0.8856\n",
      "Jaccard score: 0.7917\n"
     ]
    }
   ],
   "source": [
    "#some metrics of performance:\n",
    "print('Avg F1-score: %.4f' % f1_score(y_test, yhat, average='weighted'))\n",
    "print('Jaccard score: %.4f' % jaccard_score(y_test, yhat,pos_label='+'))"
   ]
  },
  {
   "cell_type": "code",
   "execution_count": null,
   "metadata": {},
   "outputs": [],
   "source": []
  },
  {
   "cell_type": "code",
   "execution_count": null,
   "metadata": {},
   "outputs": [],
   "source": []
  },
  {
   "cell_type": "code",
   "execution_count": null,
   "metadata": {},
   "outputs": [],
   "source": []
  },
  {
   "cell_type": "code",
   "execution_count": null,
   "metadata": {},
   "outputs": [],
   "source": []
  },
  {
   "cell_type": "code",
   "execution_count": null,
   "metadata": {},
   "outputs": [],
   "source": []
  },
  {
   "cell_type": "code",
   "execution_count": 77,
   "metadata": {},
   "outputs": [],
   "source": [
    "#logistic regression"
   ]
  },
  {
   "cell_type": "code",
   "execution_count": 78,
   "metadata": {},
   "outputs": [],
   "source": [
    "LR = LogisticRegression(C=0.01, solver='liblinear').fit(X_train,y_train)\n",
    "yhat = LR.predict(X_test)\n",
    "yhat_prob = LR.predict_proba(X_test)"
   ]
  },
  {
   "cell_type": "code",
   "execution_count": 79,
   "metadata": {},
   "outputs": [
    {
     "name": "stdout",
     "output_type": "stream",
     "text": [
      "              precision    recall  f1-score   support\n",
      "\n",
      "           +       0.88      0.82      0.84        60\n",
      "           -       0.85      0.90      0.88        71\n",
      "\n",
      "    accuracy                           0.86       131\n",
      "   macro avg       0.86      0.86      0.86       131\n",
      "weighted avg       0.86      0.86      0.86       131\n",
      "\n",
      "Confusion matrix, without normalization\n",
      "[[64  7]\n",
      " [11 49]]\n"
     ]
    },
    {
     "data": {
      "image/png": "[encoded data removed]",
      "text/plain": [
       "<Figure size 432x288 with 2 Axes>"
      ]
     },
     "metadata": {
      "needs_background": "light"
     },
     "output_type": "display_data"
    }
   ],
   "source": [
    "print (classification_report(y_test, yhat))\n",
    "# Compute confusion matrix\n",
    "cnf_matrix = confusion_matrix(y_test, yhat, labels=['-','+'])\n",
    "np.set_printoptions(precision=2)\n",
    "\n",
    "\n",
    "# Plot non-normalized confusion matrix\n",
    "plt.figure()\n",
    "plot_confusion_matrix(cnf_matrix, classes=['-','+'],normalize= False,  title='Confusion matrix')"
   ]
  },
  {
   "cell_type": "code",
   "execution_count": 80,
   "metadata": {},
   "outputs": [
    {
     "name": "stdout",
     "output_type": "stream",
     "text": [
      "Avg F1-score: 0.8621\n",
      "Jaccard score: 0.7313\n"
     ]
    }
   ],
   "source": [
    "#some metrics of performance:\n",
    "print('Avg F1-score: %.4f' % f1_score(y_test, yhat, average='weighted'))\n",
    "print('Jaccard score: %.4f' % jaccard_score(y_test, yhat,pos_label='+'))"
   ]
  },
  {
   "cell_type": "code",
   "execution_count": null,
   "metadata": {},
   "outputs": [],
   "source": []
  },
  {
   "cell_type": "code",
   "execution_count": null,
   "metadata": {},
   "outputs": [],
   "source": []
  },
  {
   "cell_type": "code",
   "execution_count": null,
   "metadata": {},
   "outputs": [],
   "source": []
  }
 ],
 "metadata": {
  "kernelspec": {
   "display_name": "Python 3",
   "language": "python",
   "name": "python3"
  },
  "language_info": {
   "codemirror_mode": {
    "name": "ipython",
    "version": 3
   },
   "file_extension": ".py",
   "mimetype": "text/x-python",
   "name": "python",
   "nbconvert_exporter": "python",
   "pygments_lexer": "ipython3",
   "version": "3.7.6"
  }
 },
 "nbformat": 4,
 "nbformat_minor": 4
}
